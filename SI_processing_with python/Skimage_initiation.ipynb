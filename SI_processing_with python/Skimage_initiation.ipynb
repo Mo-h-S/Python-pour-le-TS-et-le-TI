{
 "cells": [
  {
   "cell_type": "markdown",
   "metadata": {},
   "source": [
    "\n",
    "# Introduction to scikit-image (skimage)\n",
    "\n",
    "Scikit-image is a powerful image processing library for Python. It provides a collection of algorithms for image processing tasks such as filtering, morphology, segmentation, and feature detection.\n",
    "\n",
    "## Installation\n",
    "\n",
    "To install scikit-image, use pip:\n",
    "\n",
    "```bash\n",
    "pip install scikit-image\n",
    "```"
   ]
  },
  {
   "cell_type": "markdown",
   "metadata": {},
   "source": [
    "This introduction covers the basics of using scikit-image. For more advanced features and detailed documentation, visit the official scikit-image documentation.\n",
    "text\n",
    "\n",
    "This Markdown file provides a basic introduction to scikit-image, including installation, basic usage, common operations, and a complete example of edge detection. You can use this as a starting point for learning and working with scikit-image."
   ]
  },
  {
   "cell_type": "code",
   "execution_count": null,
   "metadata": {},
   "outputs": [],
   "source": [
    "# Importing the library\n",
    "\n",
    "import skimage\n",
    "\n",
    "# Loading an image\n",
    "\n",
    "from skimage import io\n",
    "\n"
   ]
  },
  {
   "cell_type": "markdown",
   "metadata": {},
   "source": [
    "### 1. Load an image"
   ]
  },
  {
   "cell_type": "code",
   "execution_count": null,
   "metadata": {},
   "outputs": [],
   "source": [
    "\n",
    "image = io.imread('path/to/your/image.jpg')\n",
    "\n",
    "Displaying an image\n",
    "\n",
    "from skimage import io\n",
    "import matplotlib.pyplot as plt\n",
    "\n",
    "image = io.imread('path/to/your/image.jpg')\n",
    "plt.imshow(image)\n",
    "plt.axis('off')  # Turn off axis numbers\n",
    "plt.show()"
   ]
  },
  {
   "cell_type": "markdown",
   "metadata": {},
   "source": [
    "### 2. Common Operations\n",
    "Grayscale Conversion"
   ]
  },
  {
   "cell_type": "code",
   "execution_count": null,
   "metadata": {},
   "outputs": [],
   "source": [
    "from skimage import color\n",
    "\n",
    "gray_image = color.rgb2gray(image)"
   ]
  },
  {
   "cell_type": "markdown",
   "metadata": {},
   "source": [
    "### 3. Resizing an Image"
   ]
  },
  {
   "cell_type": "code",
   "execution_count": null,
   "metadata": {},
   "outputs": [],
   "source": [
    "from skimage.transform import resize\n",
    "\n",
    "resized_image = resize(image, (100, 100))  # Resize to 100x100 pixel"
   ]
  },
  {
   "cell_type": "markdown",
   "metadata": {},
   "source": [
    "### 4. Applying Filters"
   ]
  },
  {
   "cell_type": "code",
   "execution_count": null,
   "metadata": {},
   "outputs": [],
   "source": [
    "from skimage import filters\n",
    "\n",
    "# Gaussian filter\n",
    "blurred = filters.gaussian(image, sigma=1)\n",
    "\n",
    "# Sobel edge detection\n",
    "edges = filters.sobel(gray_image)"
   ]
  },
  {
   "cell_type": "markdown",
   "metadata": {},
   "source": [
    "### 5. Thresholding"
   ]
  },
  {
   "cell_type": "code",
   "execution_count": null,
   "metadata": {},
   "outputs": [],
   "source": [
    "from skimage import filters\n",
    "\n",
    "threshold = filters.threshold_otsu(gray_image)\n",
    "binary = gray_image > threshold"
   ]
  },
  {
   "cell_type": "markdown",
   "metadata": {},
   "source": [
    "### 6. Edge Detection\n",
    "Here's a complete example that loads an image, converts it to grayscale, applies edge detection, and displays the result:\n"
   ]
  },
  {
   "cell_type": "code",
   "execution_count": null,
   "metadata": {},
   "outputs": [],
   "source": [
    "\n",
    "from skimage import io, color, filters\n",
    "import matplotlib.pyplot as plt\n",
    "\n",
    "# Load the image\n",
    "image = io.imread('path/to/your/image.jpg')\n",
    "\n",
    "# Convert to grayscale\n",
    "gray = color.rgb2gray(image)\n",
    "\n",
    "# Apply edge detection\n",
    "edges = filters.sobel(gray)\n",
    "\n",
    "# Display the results\n",
    "fig, (ax1, ax2) = plt.subplots(1, 2, figsize=(10, 5))\n",
    "ax1.imshow(image)\n",
    "ax1.set_title('Original Image')\n",
    "ax1.axis('off')\n",
    "ax2.imshow(edges, cmap='gray')\n",
    "ax2.set_title('Edge Detection')\n",
    "ax2.axis('off')\n",
    "plt.tight_layout()\n",
    "plt.show()"
   ]
  }
 ],
 "metadata": {
  "language_info": {
   "name": "python"
  }
 },
 "nbformat": 4,
 "nbformat_minor": 2
}
