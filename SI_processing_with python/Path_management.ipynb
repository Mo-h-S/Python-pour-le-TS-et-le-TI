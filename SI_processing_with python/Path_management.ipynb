{
 "cells": [
  {
   "cell_type": "markdown",
   "metadata": {},
   "source": [
    "# Introduction to Path Management with pathlib and os\n",
    "\n",
    "In this notebook, we'll explore path management in Python using the `pathlib` and `os` modules. These modules provide powerful tools for working with file paths across different operating systems.\n",
    "\n",
    "## 1. Importing the necessary modules\n",
    "\n",
    "Let's start by importing the modules we'll be using:\n",
    "\n",
    "```python\n",
    "from pathlib import Path\n",
    "import os\n",
    "```\n",
    "\n",
    "## 2. Working with pathlib\n",
    "The pathlib module provides an object-oriented interface for working with file paths. It's more modern and often more convenient than the os.path module.\n",
    "\n",
    "### 2.1 Creating Path objects"
   ]
  },
  {
   "cell_type": "code",
   "execution_count": null,
   "metadata": {},
   "outputs": [],
   "source": [
    "# Create a Path object for the current directory\n",
    "current_dir = Path.cwd()\n",
    "print(f\"Current directory: {current_dir}\")\n",
    "\n",
    "# Create a Path object for a specific file\n",
    "file_path = Path(\"example.txt\")\n",
    "print(f\"File path: {file_path}\")\n",
    "\n",
    "# Create a Path object with multiple components\n",
    "nested_path = Path(\"folder\", \"subfolder\", \"file.txt\")\n",
    "print(f\"Nested path: {nested_path}\")"
   ]
  },
  {
   "cell_type": "markdown",
   "metadata": {},
   "source": [
    "### 2.2 Path operations"
   ]
  },
  {
   "cell_type": "code",
   "execution_count": null,
   "metadata": {},
   "outputs": [],
   "source": [
    "# Join paths\n",
    "new_path = current_dir / \"new_folder\" / \"new_file.txt\"\n",
    "print(f\"Joined path: {new_path}\")\n",
    "\n",
    "# Get parent directory\n",
    "parent_dir = file_path.parent\n",
    "print(f\"Parent directory: {parent_dir}\")\n",
    "\n",
    "# Get file name and extension\n",
    "print(f\"File name: {file_path.name}\")\n",
    "print(f\"File stem: {file_path.stem}\")\n",
    "print(f\"File suffix: {file_path.suffix}\")"
   ]
  },
  {
   "cell_type": "markdown",
   "metadata": {},
   "source": [
    "### 2.3 Checking path properties"
   ]
  },
  {
   "cell_type": "code",
   "execution_count": null,
   "metadata": {},
   "outputs": [],
   "source": [
    "# Check if path exists\n",
    "print(f\"Does {file_path} exist? {file_path.exists()}\")\n",
    "\n",
    "# Check if it's a file or directory\n",
    "print(f\"Is {current_dir} a directory? {current_dir.is_dir()}\")\n",
    "print(f\"Is {file_path} a file? {file_path.is_file()}\")"
   ]
  },
  {
   "cell_type": "markdown",
   "metadata": {},
   "source": [
    "## 3. Working with os\n",
    "\n",
    "The os module provides a way of using operating system dependent functionality, including file path operations.\n",
    "\n",
    "### 3.1 Current working directory"
   ]
  },
  {
   "cell_type": "code",
   "execution_count": null,
   "metadata": {},
   "outputs": [],
   "source": [
    "# Get current working directory\n",
    "cwd = os.getcwd()\n",
    "print(f\"Current working directory: {cwd}\")\n",
    "\n",
    "# Change working directory\n",
    "os.chdir(\"..\")\n",
    "print(f\"New working directory: {os.getcwd()}\")"
   ]
  },
  {
   "cell_type": "markdown",
   "metadata": {},
   "source": [
    "### 3.2 Path operations with os.path"
   ]
  },
  {
   "cell_type": "code",
   "execution_count": null,
   "metadata": {},
   "outputs": [],
   "source": [
    "# Join paths\n",
    "joined_path = os.path.join(\"folder\", \"subfolder\", \"file.txt\")\n",
    "print(f\"Joined path: {joined_path}\")\n",
    "\n",
    "# Get absolute path\n",
    "abs_path = os.path.abspath(\"example.txt\")\n",
    "print(f\"Absolute path: {abs_path}\")\n",
    "\n",
    "# Split path into directory and file\n",
    "dir_path, file_name = os.path.split(abs_path)\n",
    "print(f\"Directory: {dir_path}\")\n",
    "print(f\"File name: {file_name}\")"
   ]
  },
  {
   "cell_type": "markdown",
   "metadata": {},
   "source": [
    "### 3.3 Checking path properties with os.path"
   ]
  },
  {
   "cell_type": "code",
   "execution_count": null,
   "metadata": {},
   "outputs": [],
   "source": [
    "# Check if path exists\n",
    "print(f\"Does 'example.txt' exist? {os.path.exists('example.txt')}\")\n",
    "\n",
    "# Check if it's a file or directory\n",
    "print(f\"Is current directory a directory? {os.path.isdir('.')}\")\n",
    "print(f\"Is 'example.txt' a file? {os.path.isfile('example.txt')}\")"
   ]
  },
  {
   "cell_type": "markdown",
   "metadata": {},
   "source": [
    "# Listing Specific Types of Files Using pathlib\n",
    "\n",
    "In this script, we will demonstrate how to list specific types of files in a directory using Python's `pathlib` module. This is particularly useful for organizing and managing files in a directory, allowing you to quickly find all files of a certain type, such as text files or image files.\n",
    "\n",
    "We will cover the following:\n",
    "- Listing all `.txt` files in a specified directory.\n",
    "- Listing common image files with extensions like `.jpg`, `.jpeg`, `.png`, and `.gif`.\n",
    "- Optionally counting the total number of each type of file found.\n",
    "\n",
    "This script is designed to be simple and easy to adapt for your own file management needs.\n",
    "\n",
    "## Example Code"
   ]
  },
  {
   "cell_type": "code",
   "execution_count": null,
   "metadata": {},
   "outputs": [],
   "source": [
    "from pathlib import Path\n",
    "\n",
    "# Specify the directory path\n",
    "directory = Path(\"path/to/your/directory\")\n",
    "\n",
    "# List all .txt files\n",
    "print(\"Text files:\")\n",
    "for txt_file in directory.glob(\"*.txt\"):\n",
    "    print(f\"- {txt_file.name}\")\n",
    "\n",
    "# List all image files (assuming .jpg, .png, and .gif extensions)\n",
    "print(\"\\nImage files:\")\n",
    "image_extensions = [\"*.jpg\", \"*.jpeg\", \"*.png\", \"*.gif\"]\n",
    "for extension in image_extensions:\n",
    "    for image_file in directory.glob(extension):\n",
    "        print(f\"- {image_file.name}\")\n",
    "\n",
    "# Optional: Count the files\n",
    "txt_count = len(list(directory.glob(\"*.txt\")))\n",
    "image_count = sum(len(list(directory.glob(ext))) for ext in image_extensions)\n",
    "\n",
    "print(f\"\\nTotal text files: {txt_count}\")\n",
    "print(f\"Total image files: {image_count}\")"
   ]
  }
 ],
 "metadata": {
  "language_info": {
   "name": "python"
  }
 },
 "nbformat": 4,
 "nbformat_minor": 2
}
