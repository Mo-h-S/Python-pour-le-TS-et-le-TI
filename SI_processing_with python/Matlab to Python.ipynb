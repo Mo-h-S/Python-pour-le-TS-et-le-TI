{
 "cells": [
  {
   "cell_type": "markdown",
   "id": "5e079ad0",
   "metadata": {},
   "source": [
    "# 10 tips for switching from Matlab to Python"
   ]
  },
  {
   "cell_type": "markdown",
   "id": "480e3118",
   "metadata": {},
   "source": [
    "## Manipulation conjointe des mots et des nombres\n",
    "Que ce soit à travers les dictionnaires ou les listes (structures standard de Python) ou les DataFrames (structure matricielle/tableau de Pandas), Python offre une grande facilité pour travailler simultanément avec des données numériques et textuelles. Cette polyvalence n'est pas aussi évidente avec Matlab, où l'introduction de texte complique considérablement les choses.\n",
    "## Flexibilité des structures de données\n",
    "En Python, il est tout à fait acceptable de créer une liste hétérogène comme celle-ci :"
   ]
  },
  {
   "cell_type": "code",
   "execution_count": 5,
   "id": "f8f685c2",
   "metadata": {},
   "outputs": [],
   "source": [
    "liste = [1, 'deux', [1,2,3], {'clé': 1}]"
   ]
  },
  {
   "cell_type": "code",
   "execution_count": 7,
   "id": "9a1aca2e",
   "metadata": {},
   "outputs": [
    {
     "data": {
      "text/plain": [
       "[1, 'deux', [1, 2, 3], {'clé': 1}]"
      ]
     },
     "execution_count": 7,
     "metadata": {},
     "output_type": "execute_result"
    }
   ],
   "source": [
    "liste"
   ]
  },
  {
   "cell_type": "markdown",
   "id": "11f849da",
   "metadata": {},
   "source": [
    "Accès aux valeurs dans les listes (et listes de listes)\n",
    "### En Matlab\n",
    "Dans Matlab, le comptage des listes commence à 1 et on y accède avec des parenthèses. La dernière valeur peut être accédée avec le mot \"end\".\n",
    "```matlab\n",
    "% Accès aux éléments de la liste en Matlab\n",
    "\n",
    "ma_liste = [1, 2, 3];\n",
    "\n",
    "% renvoie 1\n",
    "disp(ma_liste(1))\n",
    "  \n",
    "% renvoie 3\n",
    "disp(ma_liste(end))\n",
    "```\n",
    "### En Python\n",
    "En Python, on accède aux listes avec des crochets (les parenthèses sont réservées aux appels de fonctions et de classes) et le comptage commence à 0. La raison pour laquelle il commence à 0 au lieu de 1 dépasse le cadre de cet article, mais vous pouvez trouver des discussions à ce sujet en ligne. Personnellement, j'ai eu du mal à m'y habituer, aussi simple que cela puisse paraître.\n",
    "Astuce : pour accéder à la dernière valeur, on peut utiliser l'index -1. Pouvez-vous deviner ce que fait -2 ? :)\n",
    "\n",
    "Les blocs ne se terminent pas par \"end\" et nécessitent \":\"\n",
    "\n"
   ]
  },
  {
   "cell_type": "code",
   "execution_count": 9,
   "id": "3280e46c",
   "metadata": {},
   "outputs": [
    {
     "name": "stdout",
     "output_type": "stream",
     "text": [
      "1\n"
     ]
    }
   ],
   "source": [
    "# Accès aux éléments de la liste en Python\n",
    "\n",
    "ma_liste = [1, 2, 3]\n",
    "\n",
    "# renvoie 1\n",
    "print(ma_liste[0])"
   ]
  },
  {
   "cell_type": "code",
   "execution_count": 10,
   "id": "1989dd9c",
   "metadata": {},
   "outputs": [
    {
     "name": "stdout",
     "output_type": "stream",
     "text": [
      "3\n"
     ]
    }
   ],
   "source": [
    "# renvoie 3\n",
    "print(ma_liste[-1])"
   ]
  },
  {
   "cell_type": "code",
   "execution_count": 11,
   "id": "fb2afb9e",
   "metadata": {},
   "outputs": [
    {
     "name": "stdout",
     "output_type": "stream",
     "text": [
      "3\n"
     ]
    }
   ],
   "source": [
    "# liste de listes\n",
    "liste_complexe = [[1, 2, 3], [4, 5, 6]]\n",
    "\n",
    "# renvoie 3\n",
    "print(liste_complexe[0][2])"
   ]
  },
  {
   "cell_type": "code",
   "execution_count": 12,
   "id": "b5d61431",
   "metadata": {},
   "outputs": [
    {
     "name": "stdout",
     "output_type": "stream",
     "text": [
      "5\n"
     ]
    }
   ],
   "source": [
    "# renvoie 5\n",
    "print(liste_complexe[1][1])"
   ]
  },
  {
   "cell_type": "markdown",
   "id": "6a7ee58c",
   "metadata": {},
   "source": [
    "### En Matlab\n",
    "Dans Matlab, la façon la plus simple de faire une boucle est montrée ci-dessous, où vous avez une liste et vous énumérez ses éléments. Dans cette boucle, \"for\" marque le début de la boucle et \"end\" définit sa fin. L'interpréteur lira tout ce qui se trouve entre ces deux déclarations comme faisant partie de la boucle.\n",
    "Notez que l'indentation insérée est facultative, c'est juste une bonne pratique.\n",
    "L'indentation signifie que les blocs de votre code sont marqués par un espace pour identifier ce qui est imbriqué dans le code. Dans l'exemple ci-dessous, les quatre espaces avant la déclaration de la ligne 6 indiquent que cette instruction est imbriquée (c'est-à-dire à l'intérieur) de la boucle indiquée à la ligne 5 (sans indentation).\n",
    "```matlab\n",
    "% Création de la liste \n",
    "ma_liste = ['a', 'b' , 'c'];\n",
    "\n",
    "% Boucle en accédant aux éléments de la liste\n",
    "for item=ma_liste  \n",
    "    disp(item)\n",
    "end\n",
    "\n",
    "disp('En dehors de la boucle')\n",
    "```\n",
    "### En Python\n",
    "Nous pouvons voir ci-dessous la même boucle écrite en Python. Maintenant, \":\" marque le début de la boucle et il n'y a pas de \"end\" pour montrer la fin. La fin est indiquée par la fin de l'indentation à la ligne 7. L'interpréteur voit que la ligne 7 n'est pas imbriquée dans la boucle commencée à la ligne 5 et, par conséquent, ne considère pas cette ligne comme faisant partie du bloc. De cette façon, il est évident que l'indentation, dans ce cas, n'est pas optionnelle mais obligatoire !"
   ]
  },
  {
   "cell_type": "code",
   "execution_count": 16,
   "id": "c01f3ac2",
   "metadata": {},
   "outputs": [
    {
     "name": "stdout",
     "output_type": "stream",
     "text": [
      "a\n",
      "b\n",
      "c\n",
      "En dehors de la boucle\n"
     ]
    }
   ],
   "source": [
    "# Création de la liste\n",
    "ma_liste = ['a', 'b' , 'c']\n",
    "\n",
    "# Boucle en accédant aux éléments de la liste\n",
    "for item in ma_liste:  \n",
    "    print(item)\n",
    "print('En dehors de la boucle')"
   ]
  },
  {
   "cell_type": "markdown",
   "id": "03357229",
   "metadata": {},
   "source": [
    "Fonctions et méthodes disponibles\n",
    "### En Matlab\n",
    "Dans Matlab, plusieurs fonctions sont chargées par défaut, par exemple les fonctions mathématiques de base comme le sinus et le cosinus.\n",
    "### En Python\n",
    "Python a une philosophie différente où peu de fonctions sont chargées par défaut et la plupart sont séparées en modules que vous importez dans votre code. Cela permet à votre code (et à Python lui-même) d'être plus rapide et de ne charger que ce qui est nécessaire à son fonctionnement.\n",
    "Certains modules sont déjà inclus par défaut dans Python pur, par exemple le module mathématique. D'autres doivent être téléchargés à partir d'un dépôt, comme Numpy et Pandas. Aujourd'hui, plus de 107 000 projets sont enregistrés dans le dépôt officiel. Si vous ne trouvez pas ce que vous cherchez, vous êtes fortement encouragé à construire un nouveau module et à l'ajouter au dépôt !\n"
   ]
  },
  {
   "cell_type": "code",
   "execution_count": 18,
   "id": "c5f679e6",
   "metadata": {},
   "outputs": [
    {
     "name": "stdout",
     "output_type": "stream",
     "text": [
      "0.8775825618903728\n",
      "0.8775825618903728\n"
     ]
    }
   ],
   "source": [
    "import math\n",
    "\n",
    "print(math.cos(0.5))\n",
    "\n",
    "# une autre façon d'utiliser la même méthode cosinus\n",
    "\n",
    "from math import cos\n",
    "\n",
    "print(cos(0.5))"
   ]
  },
  {
   "cell_type": "markdown",
   "id": "2652960d",
   "metadata": {},
   "source": [
    "Cependant, outre les fonctions qui viennent dans les modules, chaque variable a ses propres fonctions. Spécifiques à chaque type de variable, ces fonctions peuvent être accédées via le nom de la variable comme montré dans l'exemple ci-dessous.\n",
    "Par exemple, les variables de type string sont interprétées comme du texte. Pour les variables textuelles, il existe des fonctions pour vérifier si toutes les lettres sont en minuscules (.islower()) ou pour transformer toutes les lettres en minuscules (.lower()) ou même pour vérifier si le contenu de la chaîne est numérique (.isdigit()).\n",
    "Pour chaque type de variable (string, integer, float, list, dictionary, etc.), il existe différentes méthodes intégrées. La meilleure façon de les connaître est d'ouvrir l'interpréteur, de créer des variables et de jouer avec !"
   ]
  },
  {
   "cell_type": "code",
   "execution_count": 19,
   "id": "e9ee46ac",
   "metadata": {},
   "outputs": [
    {
     "data": {
      "text/plain": [
       "1"
      ]
     },
     "execution_count": 19,
     "metadata": {},
     "output_type": "execute_result"
    }
   ],
   "source": [
    "# variable string \n",
    "mot = 'mot'\n",
    "\n",
    "# vérifie si la variable est entièrement en minuscules \n",
    "# renvoie True\n",
    "mot.islower()\n",
    "\n",
    "# vérifie s'il y a un caractère numérique dans le mot\n",
    "# renvoie False\n",
    "mot.isdigit()\n",
    "\n",
    "ma_liste = [1, 2, '3']\n",
    "\n",
    "# ajoute un élément à la liste\n",
    "# renvoie [1, 2, '3', 'quatre']\n",
    "ma_liste.append('quatre')\n",
    "\n",
    "# compte l'occurrence d'un élément dans la liste\n",
    "# renvoie 1\n",
    "ma_liste.count('3')"
   ]
  },
  {
   "cell_type": "markdown",
   "id": "75f727f6",
   "metadata": {},
   "source": [
    "Comment savoir quel module je dois utiliser ?\n",
    "Si vous utilisez Matlab, Numpy, Scipy, Matplotlib et Pandas répondront à vos besoins. Ce sont les principaux outils d'analyse de données en Python, mais il en existe beaucoup d'autres. Recherchez des codes qui ont déjà fait quelque chose de similaire et qui sont disponibles sur Github, Stackoverflow ou consultez les forums."
   ]
  },
  {
   "cell_type": "code",
   "execution_count": null,
   "id": "433ef7cc",
   "metadata": {},
   "outputs": [],
   "source": []
  }
 ],
 "metadata": {
  "kernelspec": {
   "display_name": "Python 3",
   "language": "python",
   "name": "python3"
  },
  "language_info": {
   "codemirror_mode": {
    "name": "ipython",
    "version": 3
   },
   "file_extension": ".py",
   "mimetype": "text/x-python",
   "name": "python",
   "nbconvert_exporter": "python",
   "pygments_lexer": "ipython3",
   "version": "3.11.4"
  }
 },
 "nbformat": 4,
 "nbformat_minor": 5
}
